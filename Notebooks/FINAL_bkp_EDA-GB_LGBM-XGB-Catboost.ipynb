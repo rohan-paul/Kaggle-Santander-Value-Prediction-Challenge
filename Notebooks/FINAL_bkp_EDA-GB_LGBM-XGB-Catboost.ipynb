{
 "cells": [
  {
   "cell_type": "code",
   "execution_count": 7,
   "source": [
    "import numpy as np\n",
    "import pandas as pd\n",
    "import matplotlib.pyplot as plt\n",
    "import seaborn as sns\n",
    "from sklearn.feature_extraction.text import TfidfVectorizer, CountVectorizer\n",
    "from sklearn.decomposition import TruncatedSVD\n",
    "from sklearn import preprocessing, model_selection, metrics\n",
    "from sklearn.model_selection import train_test_split\n",
    "import lightgbm as lgb\n",
    "import xgboost as xgb\n",
    "from catboost import CatBoostRegressor\n",
    "\n",
    "from IPython.display import display # Allows the use of display() for DataFrames\n",
    "\n",
    "import warnings\n",
    "warnings.filterwarnings('ignore')"
   ],
   "outputs": [],
   "metadata": {}
  },
  {
   "cell_type": "code",
   "execution_count": 5,
   "source": [
    "train_df = pd.read_csv('../input/santander-value-prediction-challenge/train.csv')\n",
    "\n",
    "# Given the test.csv file is huge, reading which each time during development\n",
    "# takes couple of minutes - making my development process slower.\n",
    "# I am reading only first 100 rows during development.\n",
    "test_df = pd.read_csv('../input/santander-value-prediction-challenge/test.csv', nrows=100)\n",
    "\n",
    "# But in Kaggle Kernel, and before final submission\n",
    "# comment-out the above line and un-comment below line to read the full train.csv\n",
    "# test_df = pd.read_csv('../input/santander-value-prediction-challenge/test.csv')\n",
    "\n",
    "train_df.head()\n",
    "print('Shape of train_df ', train_df.shape)"
   ],
   "outputs": [
    {
     "output_type": "stream",
     "name": "stdout",
     "text": [
      "Shape of train_df  (4459, 4993)\n"
     ]
    }
   ],
   "metadata": {
    "collapsed": false,
    "jupyter": {
     "outputs_hidden": false
    },
    "pycharm": {
     "name": "#%%\n"
    }
   }
  },
  {
   "cell_type": "code",
   "execution_count": 586,
   "source": [
    "test_df.head()"
   ],
   "outputs": [
    {
     "output_type": "execute_result",
     "data": {
      "text/html": [
       "<div>\n",
       "<style scoped>\n",
       "    .dataframe tbody tr th:only-of-type {\n",
       "        vertical-align: middle;\n",
       "    }\n",
       "\n",
       "    .dataframe tbody tr th {\n",
       "        vertical-align: top;\n",
       "    }\n",
       "\n",
       "    .dataframe thead th {\n",
       "        text-align: right;\n",
       "    }\n",
       "</style>\n",
       "<table border=\"1\" class=\"dataframe\">\n",
       "  <thead>\n",
       "    <tr style=\"text-align: right;\">\n",
       "      <th></th>\n",
       "      <th>ID</th>\n",
       "      <th>48df886f9</th>\n",
       "      <th>0deb4b6a8</th>\n",
       "      <th>34b15f335</th>\n",
       "      <th>a8cb14b00</th>\n",
       "      <th>2f0771a37</th>\n",
       "      <th>30347e683</th>\n",
       "      <th>d08d1fbe3</th>\n",
       "      <th>6ee66e115</th>\n",
       "      <th>20aa07010</th>\n",
       "      <th>...</th>\n",
       "      <th>3ecc09859</th>\n",
       "      <th>9281abeea</th>\n",
       "      <th>8675bec0b</th>\n",
       "      <th>3a13ed79a</th>\n",
       "      <th>f677d4d13</th>\n",
       "      <th>71b203550</th>\n",
       "      <th>137efaa80</th>\n",
       "      <th>fb36b89d9</th>\n",
       "      <th>7e293fbaf</th>\n",
       "      <th>9fc776466</th>\n",
       "    </tr>\n",
       "  </thead>\n",
       "  <tbody>\n",
       "    <tr>\n",
       "      <th>0</th>\n",
       "      <td>000137c73</td>\n",
       "      <td>0.0</td>\n",
       "      <td>0.0</td>\n",
       "      <td>0.0</td>\n",
       "      <td>0.0</td>\n",
       "      <td>0.0</td>\n",
       "      <td>0.0</td>\n",
       "      <td>0.0</td>\n",
       "      <td>0.0</td>\n",
       "      <td>0.0</td>\n",
       "      <td>...</td>\n",
       "      <td>0.0</td>\n",
       "      <td>0.0</td>\n",
       "      <td>0.0</td>\n",
       "      <td>0.0</td>\n",
       "      <td>0.0</td>\n",
       "      <td>0.0</td>\n",
       "      <td>0.0</td>\n",
       "      <td>0.0</td>\n",
       "      <td>0.0</td>\n",
       "      <td>0.0</td>\n",
       "    </tr>\n",
       "    <tr>\n",
       "      <th>1</th>\n",
       "      <td>00021489f</td>\n",
       "      <td>0.0</td>\n",
       "      <td>0.0</td>\n",
       "      <td>0.0</td>\n",
       "      <td>0.0</td>\n",
       "      <td>0.0</td>\n",
       "      <td>0.0</td>\n",
       "      <td>0.0</td>\n",
       "      <td>0.0</td>\n",
       "      <td>0.0</td>\n",
       "      <td>...</td>\n",
       "      <td>0.0</td>\n",
       "      <td>0.0</td>\n",
       "      <td>0.0</td>\n",
       "      <td>0.0</td>\n",
       "      <td>0.0</td>\n",
       "      <td>0.0</td>\n",
       "      <td>0.0</td>\n",
       "      <td>0.0</td>\n",
       "      <td>0.0</td>\n",
       "      <td>0.0</td>\n",
       "    </tr>\n",
       "    <tr>\n",
       "      <th>2</th>\n",
       "      <td>0004d7953</td>\n",
       "      <td>0.0</td>\n",
       "      <td>0.0</td>\n",
       "      <td>0.0</td>\n",
       "      <td>0.0</td>\n",
       "      <td>0.0</td>\n",
       "      <td>0.0</td>\n",
       "      <td>0.0</td>\n",
       "      <td>0.0</td>\n",
       "      <td>0.0</td>\n",
       "      <td>...</td>\n",
       "      <td>0.0</td>\n",
       "      <td>0.0</td>\n",
       "      <td>0.0</td>\n",
       "      <td>0.0</td>\n",
       "      <td>0.0</td>\n",
       "      <td>0.0</td>\n",
       "      <td>0.0</td>\n",
       "      <td>0.0</td>\n",
       "      <td>0.0</td>\n",
       "      <td>0.0</td>\n",
       "    </tr>\n",
       "    <tr>\n",
       "      <th>3</th>\n",
       "      <td>00056a333</td>\n",
       "      <td>0.0</td>\n",
       "      <td>0.0</td>\n",
       "      <td>0.0</td>\n",
       "      <td>0.0</td>\n",
       "      <td>0.0</td>\n",
       "      <td>0.0</td>\n",
       "      <td>0.0</td>\n",
       "      <td>0.0</td>\n",
       "      <td>0.0</td>\n",
       "      <td>...</td>\n",
       "      <td>0.0</td>\n",
       "      <td>0.0</td>\n",
       "      <td>0.0</td>\n",
       "      <td>0.0</td>\n",
       "      <td>0.0</td>\n",
       "      <td>0.0</td>\n",
       "      <td>0.0</td>\n",
       "      <td>0.0</td>\n",
       "      <td>0.0</td>\n",
       "      <td>0.0</td>\n",
       "    </tr>\n",
       "    <tr>\n",
       "      <th>4</th>\n",
       "      <td>00056d8eb</td>\n",
       "      <td>0.0</td>\n",
       "      <td>0.0</td>\n",
       "      <td>0.0</td>\n",
       "      <td>0.0</td>\n",
       "      <td>0.0</td>\n",
       "      <td>0.0</td>\n",
       "      <td>0.0</td>\n",
       "      <td>0.0</td>\n",
       "      <td>0.0</td>\n",
       "      <td>...</td>\n",
       "      <td>0.0</td>\n",
       "      <td>0.0</td>\n",
       "      <td>0.0</td>\n",
       "      <td>0.0</td>\n",
       "      <td>0.0</td>\n",
       "      <td>0.0</td>\n",
       "      <td>0.0</td>\n",
       "      <td>0.0</td>\n",
       "      <td>0.0</td>\n",
       "      <td>0.0</td>\n",
       "    </tr>\n",
       "  </tbody>\n",
       "</table>\n",
       "<p>5 rows × 4992 columns</p>\n",
       "</div>"
      ],
      "text/plain": [
       "          ID  48df886f9  0deb4b6a8  34b15f335  a8cb14b00  2f0771a37  \\\n",
       "0  000137c73        0.0        0.0        0.0        0.0        0.0   \n",
       "1  00021489f        0.0        0.0        0.0        0.0        0.0   \n",
       "2  0004d7953        0.0        0.0        0.0        0.0        0.0   \n",
       "3  00056a333        0.0        0.0        0.0        0.0        0.0   \n",
       "4  00056d8eb        0.0        0.0        0.0        0.0        0.0   \n",
       "\n",
       "   30347e683  d08d1fbe3  6ee66e115  20aa07010  ...  3ecc09859  9281abeea  \\\n",
       "0        0.0        0.0        0.0        0.0  ...        0.0        0.0   \n",
       "1        0.0        0.0        0.0        0.0  ...        0.0        0.0   \n",
       "2        0.0        0.0        0.0        0.0  ...        0.0        0.0   \n",
       "3        0.0        0.0        0.0        0.0  ...        0.0        0.0   \n",
       "4        0.0        0.0        0.0        0.0  ...        0.0        0.0   \n",
       "\n",
       "   8675bec0b  3a13ed79a  f677d4d13  71b203550  137efaa80  fb36b89d9  \\\n",
       "0        0.0        0.0        0.0        0.0        0.0        0.0   \n",
       "1        0.0        0.0        0.0        0.0        0.0        0.0   \n",
       "2        0.0        0.0        0.0        0.0        0.0        0.0   \n",
       "3        0.0        0.0        0.0        0.0        0.0        0.0   \n",
       "4        0.0        0.0        0.0        0.0        0.0        0.0   \n",
       "\n",
       "   7e293fbaf  9fc776466  \n",
       "0        0.0        0.0  \n",
       "1        0.0        0.0  \n",
       "2        0.0        0.0  \n",
       "3        0.0        0.0  \n",
       "4        0.0        0.0  \n",
       "\n",
       "[5 rows x 4992 columns]"
      ]
     },
     "metadata": {},
     "execution_count": 586
    }
   ],
   "metadata": {
    "collapsed": false,
    "jupyter": {
     "outputs_hidden": false
    },
    "pycharm": {
     "name": "#%%\n"
    }
   }
  },
  {
   "cell_type": "markdown",
   "source": [
    "We have an anonymised ID feature together with a numerical target variable. The typical values of this target seem to be relatively high.\n",
    "\n",
    "The remaining 4991 features are completely anonymous and appear to be primarily in integer or double format. Also here we find a large numerical range of values; in one instance from 7,000 to 17,020,000. Many columns have large numbers of zeros."
   ],
   "metadata": {}
  },
  {
   "cell_type": "code",
   "execution_count": 587,
   "source": [
    "train_df.info()"
   ],
   "outputs": [
    {
     "output_type": "stream",
     "name": "stdout",
     "text": [
      "<class 'pandas.core.frame.DataFrame'>\n",
      "RangeIndex: 4459 entries, 0 to 4458\n",
      "Columns: 4993 entries, ID to 9fc776466\n",
      "dtypes: float64(1845), int64(3147), object(1)\n",
      "memory usage: 169.9+ MB\n"
     ]
    }
   ],
   "metadata": {
    "collapsed": false,
    "jupyter": {
     "outputs_hidden": false
    },
    "pycharm": {
     "name": "#%%\n"
    }
   }
  },
  {
   "cell_type": "markdown",
   "source": [
    "Initial Observations looking at the above data\n",
    "\n",
    "- Column name does not mean anything now, as they are all anonymized\n",
    "- The dataframe is full of zero values.\n",
    "- The dataset is a sparse tabular one refer [this](https://www.kaggle.com/c/santander-value-prediction-challenge/discussion/59128)\n",
    "\n",
    "Target Variable:\n",
    "\n",
    "First doing some scatter plot of the target variable to check for visible outliers."
   ],
   "metadata": {}
  },
  {
   "cell_type": "code",
   "execution_count": 588,
   "source": [
    "print('Train rows and columns: ', train_df.shape)\n",
    "\n",
    "# Keeping below line commented out as its huge 49,342 row file with 1gb size and so take longer to run each time\n",
    "print('Test rows and columns: ', test_df.shape)"
   ],
   "outputs": [
    {
     "output_type": "stream",
     "name": "stdout",
     "text": [
      "Train rows and columns:  (4459, 4993)\n",
      "Test rows and columns:  (100, 4992)\n"
     ]
    }
   ],
   "metadata": {
    "collapsed": false,
    "jupyter": {
     "outputs_hidden": false
    },
    "pycharm": {
     "name": "#%%\n"
    }
   }
  },
  {
   "cell_type": "markdown",
   "source": [
    "So we have 4459 rows in train set and 49342 rows in test set. We also have 4993 columns in total including the target and id column.\n",
    "\n",
    "* Test set is almost 10 times as that of train set.\n",
    "* Number of columns is more than the number of train rows. That’s right: Our data set is wider than it is tall. So need to be careful with feature selection / engineering."
   ],
   "metadata": {}
  },
  {
   "cell_type": "code",
   "execution_count": 6,
   "source": [
    "# Keeping below lines commented out during development\n",
    "\n",
    "plt.figure(figsize=(8,6))\n",
    "plt.scatter(range(train_df.shape[0]), np.sort(train_df['target'].values))\n",
    "plt.xlabel('index', fontsize=12)\n",
    "plt.ylabel('Target', fontsize=12)\n",
    "plt.title('Distribution of Target', fontsize=14)\n",
    "plt.show()"
   ],
   "outputs": [
    {
     "output_type": "display_data",
     "data": {
      "image/png": "[encoded data removed]",
      "text/plain": [
       "<Figure size 576x432 with 1 Axes>"
      ]
     },
     "metadata": {
      "needs_background": "light"
     }
    }
   ],
   "metadata": {
    "collapsed": false,
    "jupyter": {
     "outputs_hidden": false
    },
    "pycharm": {
     "name": "#%%\n"
    }
   }
  },
  {
   "cell_type": "markdown",
   "source": [
    "TO-DO - So there's not too much of outliers (visibly) but the distribution range is high. Now want to do a histogram"
   ],
   "metadata": {}
  },
  {
   "cell_type": "markdown",
   "source": [
    "## Checking for missing / null values in data"
   ],
   "metadata": {
    "pycharm": {
     "name": "#%% md\n"
    }
   }
  },
  {
   "cell_type": "code",
   "execution_count": 590,
   "source": [
    "print(\"All Features in Train data with NaN Values =\", str(train_df.columns[train_df.isnull().sum() != 0].size) )\n",
    "# print(\"All Features in Test data with NaN Values =\", str(test_df.columns[train_df.isnull().sum() != 0].size) )"
   ],
   "outputs": [
    {
     "output_type": "stream",
     "name": "stdout",
     "text": [
      "All Features in Train data with NaN Values = 0\n"
     ]
    }
   ],
   "metadata": {
    "collapsed": false,
    "jupyter": {
     "outputs_hidden": false
    },
    "pycharm": {
     "name": "#%%\n"
    }
   }
  },
  {
   "cell_type": "markdown",
   "source": [
    "# Remove constant columns from data with the help of Constant or Variable Standard Deviation / Variance\n",
    "\n",
    "Variance defines how the data is spread across the mean. It is calulcated by taking the square of difference of every value from the mean value for a variable. One of the statistical intution is that if the feature variance is very less, then the feature will add less contribution to the model. However, I donot follow this blindly as most of the deep learning and boosting modles are robust to such issues. But, variance can give an idea about the features which can be discarded. Atleast the features having zero variance can be discarded because they are essently constant features. (again, these features might not be significant when considered individually, but can be useful in the row wise aggregated features)"
   ],
   "metadata": {
    "pycharm": {
     "name": "#%% md\n"
    }
   }
  },
  {
   "cell_type": "code",
   "execution_count": 591,
   "source": [
    "const_columns_to_remove = []\n",
    "for col in train_df.columns:\n",
    "    if col != 'ID' and col != 'target':\n",
    "        if train_df[col].std() == 0:\n",
    "            const_columns_to_remove.append(col)\n",
    "\n",
    "# Now remove that array of const columns from the data\n",
    "train_df.drop(const_columns_to_remove, axis=1, inplace=True)\n",
    "test_df.drop(const_columns_to_remove, axis=1, inplace=True)\n",
    "\n",
    "# Print to see the reduction of columns\n",
    "print('train_df rows and columns after removing constant columns: ', train_df.shape)\n",
    "\n",
    "print('Following `{}` Constant Column\\n are removed'.format(len(const_columns_to_remove)))\n",
    "print(const_columns_to_remove)"
   ],
   "outputs": [
    {
     "output_type": "stream",
     "name": "stdout",
     "text": [
      "train_df rows and columns after removing constant columns:  (4459, 4737)\n",
      "Following `256` Constant Column\n",
      " are removed\n",
      "['d5308d8bc', 'c330f1a67', 'eeac16933', '7df8788e8', '5b91580ee', '6f29fbbc7', '46dafc868', 'ae41a98b6', 'f416800e9', '6d07828ca', '7ac332a1d', '70ee7950a', '833b35a7c', '2f9969eab', '8b1372217', '68322788b', '2288ac1a6', 'dc7f76962', '467044c26', '39ebfbfd9', '9a5ff8c23', 'f6fac27c8', '664e2800e', 'ae28689a2', 'd87dcac58', '4065efbb6', 'f944d9d43', 'c2c4491d5', 'a4346e2e2', '1af366d4f', 'cfff5b7c8', 'da215e99e', '5acd26139', '9be9c6cef', '1210d0271', '21b0a54cb', 'da35e792b', '754c502dd', '0b346adbd', '0f196b049', 'b603ed95d', '2a50e001c', '1e81432e7', '10350ea43', '3c7c7e24c', '7585fce2a', '64d036163', 'f25d9935c', 'd98484125', '95c85e227', '9a5273600', '746cdb817', '6377a6293', '7d944fb0c', '87eb21c50', '5ea313a8c', '0987a65a1', '2fb7c2443', 'f5dde409b', '1ae50d4c3', '2b21cd7d8', '0db8a9272', '804d8b55b', '76f135fa6', '7d7182143', 'f88e61ae6', '378ed28e0', 'ca4ba131e', '1352ddae5', '2b601ad67', '6e42ff7c7', '22196a84c', '0e410eb3d', '992e6d1d3', '90a742107', '08b9ec4ae', 'd95203ded', '58ad51def', '9f69ae59f', '863de8a31', 'be10df47c', 'f006d9618', 'a7e39d23d', '5ed0abe85', '6c578fe94', '7fa4fcee9', '5e0571f07', 'fd5659511', 'e06b9f40f', 'c506599c8', '99de8c2dc', 'b05f4b229', '5e0834175', 'eb1cc0d9c', 'b281a62b9', '00fcf67e4', 'e37b65992', '2308e2b29', 'c342e8709', '708471ebf', 'f614aac15', '15ecf7b68', '3bfe540f1', '7a0d98f3c', 'e642315a5', 'c16d456a7', '0c9b5bcfa', 'b778ab129', '2ace87cdd', '697a566f0', '97b1f84fc', '34eff114b', '5281333d7', 'c89f3ba7e', 'cd6d3c7e6', 'fc7c8f2e8', 'abbbf9f82', '24a233e8f', '8e26b560e', 'a28ac1049', '504502ce1', 'd9a8615f3', '4efd6d283', '34cc56e83', '93e98252a', '2b6cef19e', 'c7f70a49b', '0d29ab7eb', 'e4a0d39b7', 'a4d1a8409', 'bc694fc8f', '3a36fc3a2', '4ffba44d3', '9bfdec4bc', '66a866d2f', 'f941e9df7', 'e7af4dbf3', 'dc9a54a3e', '748168a04', 'bba8ce4bb', 'ff6f62aa4', 'b06fe66ba', 'ae87ebc42', 'f26589e57', '963bb53b1', 'a531a4bf0', '9fc79985d', '9350d55c1', 'de06e884c', 'fc10bdf18', 'e0907e883', 'c586d79a1', 'e15e1513d', 'a06067897', '643e42fcb', '217cd3838', '047ebc242', '9b6ce40cf', '3b2c972b3', '17a7bf25a', 'c9028d46b', '9e0473c91', '6b041d374', '783c50218', '19122191d', 'ce573744f', '1c4ea481e', 'fbd6e0a0b', '69831c049', 'b87e3036b', '54ba515ee', 'a09ba0b15', '90f77ec55', 'fb02ef0ea', '3b0cccd29', 'fe9ed417c', '589e8bd6f', '17b5a03fd', '80e16b49a', 'a3d5c2c2a', '1bd3a4e92', '611d81daa', '3d7780b1c', '113fd0206', '5e5894826', 'cb36204f9', 'bc4e3d600', 'c66e2deb0', 'c25851298', 'a7f6de992', '3f93a3272', 'c1b95c2ec', '6bda21fee', '4a64e56e7', '943743753', '20854f8bf', 'ac2e428a9', '5ee7de0be', '316423a21', '2e52b0c6a', '8bdf6bc7e', '8f523faf2', '4758340d5', '8411096ec', '9678b95b7', 'a185e35cc', 'fa980a778', 'c8d90f7d7', '080540c81', '32591c8b4', '5779da33c', 'bb425b41e', '01599af81', '1654ab770', 'd334a588e', 'b4353599c', '51b53eaec', '2cc0fbc52', '45ffef194', 'c15ac04ee', '5b055c8ea', 'd0466eb58', 'a80633823', 'a117a5409', '7ddac276f', '8c32df8b3', 'e5649663e', '6c16efbb8', '9118fd5ca', 'ca8d565f1', '16a5bb8d2', 'fd6347461', 'f5179fb9c', '97428b646', 'f684b0a96', 'e4b2caa9f', '2c2d9f267', '96eb14eaf', 'cb2cb460c', '86f843927', 'ecd16fc60', '801c6dc8e', 'f859a25b8', 'ae846f332', '2252c7403', 'fb9e07326', 'd196ca1fd', 'a8e562e8e', 'eb6bb7ce1', '5beff147e', '52b347cdc', '4600aadcf', '6fa0b9dab', '43d70cc4d', '408021ef8', 'e29d22b59']\n"
     ]
    }
   ],
   "metadata": {
    "collapsed": false,
    "jupyter": {
     "outputs_hidden": false
    },
    "pycharm": {
     "name": "#%%\n"
    }
   }
  },
  {
   "cell_type": "markdown",
   "source": [
    "## Remove Duplicate Columns\n",
    "\n",
    "**I will be using the duplicated() function of pandas - here's how it works:**\n",
    "\n",
    "Suppose the columns of the data frame are `['alpha','beta','alpha']`\n",
    "\n",
    "`df.columns.duplicated()` returns a boolean array: a `True` or `False` for each column. If it is `False` then the column name is unique up to that point, if it is `True` then the column name is duplicated earlier. For example, using the given example, the returned value would be `[False,False,True]`. \n",
    "\n",
    "`Pandas` allows one to index using boolean values whereby it selects only the `True` values. Since we want to keep the unduplicated columns, we need the above boolean array to be flipped (ie `[True, True, False] = ~[False,False,True]`)\n",
    "\n",
    "Finally, `df.loc[:,[True,True,False]]` selects only the non-duplicated columns using the aforementioned indexing capability. \n",
    "\n",
    "**Note**: the above only checks columns names, *not* column values."
   ],
   "metadata": {
    "pycharm": {
     "name": "#%% md\n"
    }
   }
  },
  {
   "cell_type": "code",
   "execution_count": 592,
   "source": [
    "train_df = train_df.loc[:,~train_df.columns.duplicated()]\n",
    "print('Train rows and columns after removing duplicate columns: ', train_df.shape)"
   ],
   "outputs": [
    {
     "output_type": "stream",
     "name": "stdout",
     "text": [
      "Train rows and columns after removing duplicate columns:  (4459, 4737)\n"
     ]
    }
   ],
   "metadata": {
    "collapsed": false,
    "jupyter": {
     "outputs_hidden": false
    },
    "pycharm": {
     "name": "#%%\n"
    }
   }
  },
  {
   "cell_type": "markdown",
   "source": [
    "## Handling Sparse data\n",
    "\n",
    "**What is Sparse data**\n",
    "\n",
    "As an example, let's say that we are collecting data from a device which has 12 sensors. And you have collected data for 10 days.\n",
    "\n",
    "The data you have collected is as follows:\n",
    "\n",
    "[![enter image description here][1]][1]\n",
    "\n",
    "\n",
    "The above is an example of sparse data because most of the sensor outputs are zero. Which means those sensors are functioning properly but the actual reading is zero. Although this matrix has high dimensional data (12 axises) it can be said that it contains less information.\n",
    "\n",
    "So basically, sparse data means that there are many gaps present in the data being recorded. For example, in the case of the sensor mentioned above, the sensor may send a signal only when the state changes, like when there is a movement of the door in a room. This data will be obtained intermittently because the door is not always moving. Hence, this is sparse data.\n",
    "\n",
    "  [1]: https://i.stack.imgur.com/Af5IH.png\n",
    "\n",
    "\n",
    "First lets have a look at or train_df data again, that how much of sparse data is there. And as we can see there are plenty of '0'"
   ],
   "metadata": {
    "pycharm": {
     "name": "#%% md\n"
    }
   }
  },
  {
   "cell_type": "code",
   "execution_count": 593,
   "source": [
    "train_df.head()"
   ],
   "outputs": [
    {
     "output_type": "execute_result",
     "data": {
      "text/html": [
       "<div>\n",
       "<style scoped>\n",
       "    .dataframe tbody tr th:only-of-type {\n",
       "        vertical-align: middle;\n",
       "    }\n",
       "\n",
       "    .dataframe tbody tr th {\n",
       "        vertical-align: top;\n",
       "    }\n",
       "\n",
       "    .dataframe thead th {\n",
       "        text-align: right;\n",
       "    }\n",
       "</style>\n",
       "<table border=\"1\" class=\"dataframe\">\n",
       "  <thead>\n",
       "    <tr style=\"text-align: right;\">\n",
       "      <th></th>\n",
       "      <th>ID</th>\n",
       "      <th>target</th>\n",
       "      <th>48df886f9</th>\n",
       "      <th>0deb4b6a8</th>\n",
       "      <th>34b15f335</th>\n",
       "      <th>a8cb14b00</th>\n",
       "      <th>2f0771a37</th>\n",
       "      <th>30347e683</th>\n",
       "      <th>d08d1fbe3</th>\n",
       "      <th>6ee66e115</th>\n",
       "      <th>...</th>\n",
       "      <th>3ecc09859</th>\n",
       "      <th>9281abeea</th>\n",
       "      <th>8675bec0b</th>\n",
       "      <th>3a13ed79a</th>\n",
       "      <th>f677d4d13</th>\n",
       "      <th>71b203550</th>\n",
       "      <th>137efaa80</th>\n",
       "      <th>fb36b89d9</th>\n",
       "      <th>7e293fbaf</th>\n",
       "      <th>9fc776466</th>\n",
       "    </tr>\n",
       "  </thead>\n",
       "  <tbody>\n",
       "    <tr>\n",
       "      <th>0</th>\n",
       "      <td>000d6aaf2</td>\n",
       "      <td>38000000.0</td>\n",
       "      <td>0.0</td>\n",
       "      <td>0</td>\n",
       "      <td>0.0</td>\n",
       "      <td>0</td>\n",
       "      <td>0</td>\n",
       "      <td>0</td>\n",
       "      <td>0</td>\n",
       "      <td>0</td>\n",
       "      <td>...</td>\n",
       "      <td>0.0</td>\n",
       "      <td>0.0</td>\n",
       "      <td>0.0</td>\n",
       "      <td>0</td>\n",
       "      <td>0</td>\n",
       "      <td>0</td>\n",
       "      <td>0</td>\n",
       "      <td>0</td>\n",
       "      <td>0</td>\n",
       "      <td>0</td>\n",
       "    </tr>\n",
       "    <tr>\n",
       "      <th>1</th>\n",
       "      <td>000fbd867</td>\n",
       "      <td>600000.0</td>\n",
       "      <td>0.0</td>\n",
       "      <td>0</td>\n",
       "      <td>0.0</td>\n",
       "      <td>0</td>\n",
       "      <td>0</td>\n",
       "      <td>0</td>\n",
       "      <td>0</td>\n",
       "      <td>0</td>\n",
       "      <td>...</td>\n",
       "      <td>0.0</td>\n",
       "      <td>0.0</td>\n",
       "      <td>0.0</td>\n",
       "      <td>0</td>\n",
       "      <td>0</td>\n",
       "      <td>0</td>\n",
       "      <td>0</td>\n",
       "      <td>0</td>\n",
       "      <td>0</td>\n",
       "      <td>0</td>\n",
       "    </tr>\n",
       "    <tr>\n",
       "      <th>2</th>\n",
       "      <td>0027d6b71</td>\n",
       "      <td>10000000.0</td>\n",
       "      <td>0.0</td>\n",
       "      <td>0</td>\n",
       "      <td>0.0</td>\n",
       "      <td>0</td>\n",
       "      <td>0</td>\n",
       "      <td>0</td>\n",
       "      <td>0</td>\n",
       "      <td>0</td>\n",
       "      <td>...</td>\n",
       "      <td>0.0</td>\n",
       "      <td>0.0</td>\n",
       "      <td>0.0</td>\n",
       "      <td>0</td>\n",
       "      <td>0</td>\n",
       "      <td>0</td>\n",
       "      <td>0</td>\n",
       "      <td>0</td>\n",
       "      <td>0</td>\n",
       "      <td>0</td>\n",
       "    </tr>\n",
       "    <tr>\n",
       "      <th>3</th>\n",
       "      <td>0028cbf45</td>\n",
       "      <td>2000000.0</td>\n",
       "      <td>0.0</td>\n",
       "      <td>0</td>\n",
       "      <td>0.0</td>\n",
       "      <td>0</td>\n",
       "      <td>0</td>\n",
       "      <td>0</td>\n",
       "      <td>0</td>\n",
       "      <td>0</td>\n",
       "      <td>...</td>\n",
       "      <td>0.0</td>\n",
       "      <td>0.0</td>\n",
       "      <td>0.0</td>\n",
       "      <td>0</td>\n",
       "      <td>0</td>\n",
       "      <td>0</td>\n",
       "      <td>0</td>\n",
       "      <td>0</td>\n",
       "      <td>0</td>\n",
       "      <td>0</td>\n",
       "    </tr>\n",
       "    <tr>\n",
       "      <th>4</th>\n",
       "      <td>002a68644</td>\n",
       "      <td>14400000.0</td>\n",
       "      <td>0.0</td>\n",
       "      <td>0</td>\n",
       "      <td>0.0</td>\n",
       "      <td>0</td>\n",
       "      <td>0</td>\n",
       "      <td>0</td>\n",
       "      <td>0</td>\n",
       "      <td>0</td>\n",
       "      <td>...</td>\n",
       "      <td>0.0</td>\n",
       "      <td>0.0</td>\n",
       "      <td>0.0</td>\n",
       "      <td>0</td>\n",
       "      <td>0</td>\n",
       "      <td>0</td>\n",
       "      <td>0</td>\n",
       "      <td>0</td>\n",
       "      <td>0</td>\n",
       "      <td>0</td>\n",
       "    </tr>\n",
       "  </tbody>\n",
       "</table>\n",
       "<p>5 rows × 4737 columns</p>\n",
       "</div>"
      ],
      "text/plain": [
       "          ID      target  48df886f9  0deb4b6a8  34b15f335  a8cb14b00  \\\n",
       "0  000d6aaf2  38000000.0        0.0          0        0.0          0   \n",
       "1  000fbd867    600000.0        0.0          0        0.0          0   \n",
       "2  0027d6b71  10000000.0        0.0          0        0.0          0   \n",
       "3  0028cbf45   2000000.0        0.0          0        0.0          0   \n",
       "4  002a68644  14400000.0        0.0          0        0.0          0   \n",
       "\n",
       "   2f0771a37  30347e683  d08d1fbe3  6ee66e115  ...  3ecc09859  9281abeea  \\\n",
       "0          0          0          0          0  ...        0.0        0.0   \n",
       "1          0          0          0          0  ...        0.0        0.0   \n",
       "2          0          0          0          0  ...        0.0        0.0   \n",
       "3          0          0          0          0  ...        0.0        0.0   \n",
       "4          0          0          0          0  ...        0.0        0.0   \n",
       "\n",
       "   8675bec0b  3a13ed79a  f677d4d13  71b203550  137efaa80  fb36b89d9  \\\n",
       "0        0.0          0          0          0          0          0   \n",
       "1        0.0          0          0          0          0          0   \n",
       "2        0.0          0          0          0          0          0   \n",
       "3        0.0          0          0          0          0          0   \n",
       "4        0.0          0          0          0          0          0   \n",
       "\n",
       "   7e293fbaf  9fc776466  \n",
       "0          0          0  \n",
       "1          0          0  \n",
       "2          0          0  \n",
       "3          0          0  \n",
       "4          0          0  \n",
       "\n",
       "[5 rows x 4737 columns]"
      ]
     },
     "metadata": {},
     "execution_count": 593
    }
   ],
   "metadata": {
    "collapsed": false,
    "jupyter": {
     "outputs_hidden": false
    },
    "pycharm": {
     "name": "#%%\n"
    }
   }
  },
  {
   "cell_type": "markdown",
   "source": [
    "## Check and handle total memory of data\n",
    "\n",
    "`get_dummies` pandas function converts categorical variables into indicator variables."
   ],
   "metadata": {
    "pycharm": {
     "name": "#%% md\n"
    }
   }
  },
  {
   "cell_type": "code",
   "execution_count": 594,
   "source": [
    "def print_memory_usage_of_df(df):\n",
    "    bytes_per_mb = 0.000001\n",
    "    memory_usage = round(df.memory_usage().sum() * bytes_per_mb, 3)\n",
    "    print('Memory usage is ', str(memory_usage) + \" MB\")\n",
    "\n",
    "print_memory_usage_of_df(train_df)\n",
    "print(train_df.shape)"
   ],
   "outputs": [
    {
     "output_type": "stream",
     "name": "stdout",
     "text": [
      "Memory usage is  168.978 MB\n",
      "(4459, 4737)\n"
     ]
    }
   ],
   "metadata": {
    "collapsed": false,
    "jupyter": {
     "outputs_hidden": false
    },
    "pycharm": {
     "name": "#%%\n"
    }
   }
  },
  {
   "cell_type": "code",
   "execution_count": 595,
   "source": [
    "dummy_encoded_train_df = pd.get_dummies(train_df)\n",
    "dummy_encoded_train_df.shape"
   ],
   "outputs": [
    {
     "output_type": "execute_result",
     "data": {
      "text/plain": [
       "(4459, 9195)"
      ]
     },
     "metadata": {},
     "execution_count": 595
    }
   ],
   "metadata": {
    "collapsed": false,
    "jupyter": {
     "outputs_hidden": false
    },
    "pycharm": {
     "name": "#%%\n"
    }
   }
  },
  {
   "cell_type": "code",
   "execution_count": 596,
   "source": [
    "print_memory_usage_of_df(dummy_encoded_train_df)"
   ],
   "outputs": [
    {
     "output_type": "stream",
     "name": "stdout",
     "text": [
      "Memory usage is  188.825 MB\n"
     ]
    }
   ],
   "metadata": {
    "collapsed": false,
    "jupyter": {
     "outputs_hidden": false
    },
    "pycharm": {
     "name": "#%%\n"
    }
   }
  },
  {
   "cell_type": "markdown",
   "source": [
    "We see that the memory usage of the dummy_encoded_train_df data  frame is larger compared to the original, because now the number of columns have increased in the data frame.\n",
    "\n",
    "##### So lets apply `sparse=True` if it reduces the memory-usages to some extent.\n",
    "\n",
    "This parameter `sparse` defaults to False. If True the encoded columns are returned as **SparseArray**. By setting `sparse=True` we create a sparse data frame directly"
   ],
   "metadata": {
    "pycharm": {
     "name": "#%% md\n"
    }
   }
  },
  {
   "cell_type": "code",
   "execution_count": 597,
   "source": [
    "dummy_encoded_sparse_train_df = pd.get_dummies(train_df, sparse=True)\n",
    "dummy_encoded_sparse_train_df.shape"
   ],
   "outputs": [
    {
     "output_type": "execute_result",
     "data": {
      "text/plain": [
       "(4459, 9195)"
      ]
     },
     "metadata": {},
     "execution_count": 597
    }
   ],
   "metadata": {
    "collapsed": false,
    "jupyter": {
     "outputs_hidden": false
    },
    "pycharm": {
     "name": "#%%\n"
    }
   }
  },
  {
   "cell_type": "code",
   "execution_count": 598,
   "source": [
    "print_memory_usage_of_df(dummy_encoded_sparse_train_df)\n"
   ],
   "outputs": [
    {
     "output_type": "stream",
     "name": "stdout",
     "text": [
      "Memory usage is  168.965 MB\n"
     ]
    }
   ],
   "metadata": {
    "collapsed": false,
    "jupyter": {
     "outputs_hidden": false
    },
    "pycharm": {
     "name": "#%%\n"
    }
   }
  },
  {
   "cell_type": "markdown",
   "source": [
    "But looks like in this case the reduction in memory_size was not a huge amount. So lets try some other alternative\n",
    "\n",
    "## [Pandas Sparse Structures](https://pandas.pydata.org/pandas-docs/stable/user_guide/sparse.html#sparse-data-structures)\n",
    "\n",
    "Pandas provides data structures for efficient storage of sparse data. In these structures, zero values (or any other specified value) are not actually stored in the array. Rather, you can view these objects as being “compressed” where any data matching a specific value (NaN / missing value, though any value can be chosen, including 0) is omitted. The compressed values are not actually stored in the array.\n",
    "\n",
    "Storing only the non-zero values and their positions is a common technique in storing sparse data sets.\n",
    "\n",
    "This hugely reduces the memory usage of our data set and “compress” the data frame.\n",
    "\n",
    "In our example, we will convert the one-hot encoded columns into SparseArrays, which are 1-d arrays where only non-zero values are stored."
   ],
   "metadata": {
    "pycharm": {
     "name": "#%% md\n"
    }
   }
  },
  {
   "cell_type": "code",
   "execution_count": 599,
   "source": [
    "def convert_df_to_sparse_array(df, exclude_columns=[]):\n",
    "    df = df.copy()\n",
    "    exclude_columns = set(exclude_columns)\n",
    "\n",
    "    for (column_name, column_data) in df.iteritems():\n",
    "        if column_name in exclude_columns:\n",
    "            continue\n",
    "        df[column_name] = pd.SparseArray(column_data.values, dtype='uint8')\n",
    "\n",
    "    return df\n",
    "\n",
    "# Now convert our earlier dummy_encoded_train_df with above function and check memory_size\n",
    "\n",
    "# train_data_post_conversion_to_sparse_array = convert_df_to_sparse_array(dummy_encoded_train_df)\n",
    "# print('Sparse Array Train_DF rows and columns: ', train_data_post_conversion_to_sparse_array.shape)\n",
    "# print_memory_usage_of_df(train_data_post_conversion_to_sparse_array)\n",
    "\n",
    "# Commenting the above out - for running the Notebook faster during my development \n",
    "# Because df.iteritems() will take a huge time to process the data - see warning below"
   ],
   "outputs": [],
   "metadata": {
    "collapsed": false,
    "jupyter": {
     "outputs_hidden": false
    },
    "pycharm": {
     "name": "#%%\n"
    }
   }
  },
  {
   "cell_type": "markdown",
   "source": [
    "**We see the that the memory_usage is substantially reduced now**\n",
    "\n",
    "### A warning on using df.iteritems()\n",
    "\n",
    "The df.iteritems() iterates over columns and not rows. Generally iteration over dataframes is an anti-pattern, and something we should avoid, unless you want to get used to a lot of waiting."
   ],
   "metadata": {
    "pycharm": {
     "name": "#%% md\n"
    }
   }
  },
  {
   "cell_type": "markdown",
   "source": [
    "# Sparse Data Removal (Following simpler plain-vanilla technique)\n",
    "\n",
    "## For this notebook, I will go with the easier approach to handle sparse data - which is just to drop it from the dataframe\n",
    "\n",
    "like below code, I will do this for the sake of running this notebook faster for now\n"
   ],
   "metadata": {
    "pycharm": {
     "name": "#%% md\n"
    }
   }
  },
  {
   "cell_type": "code",
   "execution_count": 600,
   "source": [
    "def drop_sparse_from_train_test(train, test):\n",
    "    column_list_to_drop_data_from = [x for x in train.columns if not x in ['ID','target']]\n",
    "    for f in column_list_to_drop_data_from:\n",
    "        if len(np.unique(train[f]))<2:\n",
    "            train.drop(f, axis=1, inplace=True)\n",
    "            test.drop(f, axis=1, inplace=True)\n",
    "    return train, test\n",
    "\n",
    "train_df, test_df = drop_sparse_from_train_test(train_df, test_df)\n"
   ],
   "outputs": [],
   "metadata": {
    "collapsed": false,
    "jupyter": {
     "outputs_hidden": false
    },
    "pycharm": {
     "name": "#%%\n"
    }
   }
  },
  {
   "cell_type": "markdown",
   "source": [
    "### Split data into Train and Test for Model Training"
   ],
   "metadata": {
    "pycharm": {
     "name": "#%% md\n"
    }
   }
  },
  {
   "cell_type": "code",
   "execution_count": 601,
   "source": [
    "X_train = train_df.drop(['ID', 'target'], axis=1)\n",
    "\n",
    "y_train = np.log1p(train_df['target'].values)\n",
    "\n",
    "X_test_original = test_df.drop('ID', axis=1)\n",
    "\n",
    "X_train_split, X_validation, y_train_split, y_validation = train_test_split(X_train, y_train, test_size=0.2, random_state=42)"
   ],
   "outputs": [],
   "metadata": {
    "collapsed": false,
    "jupyter": {
     "outputs_hidden": false
    },
    "pycharm": {
     "name": "#%%\n"
    }
   }
  },
  {
   "cell_type": "markdown",
   "source": [
    "## LightGBM Model Training\n",
    "\n",
    "### Fundamentals of LightGBM Model\n",
    "\n",
    "It is a **gradient boosting** model that makes use of tree based learning algorithms. It is considered to be a fast processing algorithm.\n",
    "\n",
    "While other algorithms trees grow horizontally, LightGBM algorithm grows vertically, meaning it grows leaf-wise and other algorithms grow level-wise. LightGBM chooses the leaf with large loss to grow. It can lower down more loss than a level wise algorithm when growing the same leaf.\n",
    "\n",
    "![img](https://i.imgur.com/pzOP2Lb.png)\n",
    "\n",
    "[Source of Image](https://www.analyticsvidhya.com/blog/2017/06/which-algorithm-takes-the-crown-light-gbm-vs-xgboost/)\n",
    "\n",
    "Light GBM is prefixed as Light because of its high speed. Light GBM can handle the large size of data and takes lower memory to run.\n",
    "\n",
    "Another reason why Light GBM is so popular is because it focuses on accuracy of results. LGBM also supports GPU learning and thus data scientists are widely using LGBM for data science application development.\n",
    "\n",
    "**Leaf growth technique in LightGBM**\n",
    "\n",
    "LightGBM uses leaf-wise (best-first) tree growth. It chooses to grow the leaf that minimizes the loss, allowing a growth of an imbalanced tree. Because it doesn’t grow level-wise, but leaf-wise, over-fitting can happen when data is small. In these cases, it is important to control the tree depth.\n",
    "\n",
    "### When to use LightGBM ?\n",
    "\n",
    "LightGBM is not preferred for a small volume of datasets as it can easily overfit small data due to its sensitivity. Hence, it generally advised for data having more than 10,000+ rows, though there is no fixed threshold that helps in deciding the usage of LightGBM.\n",
    "\n",
    "## What are LightGBM Parameters?\n",
    "\n",
    "While, LightGBM has more than 100 parameters that are given in the [documentation of LightGBM](https://github.com/microsoft/LightGBM), let's checkout the most important ones.\n",
    "\n",
    "#### Control Parameters\n",
    "\n",
    "**Max depth**: It gives the depth of the tree and also controls the overfitting of the model. If you feel your model is getting overfitted lower down the max depth.\n",
    "\n",
    "**Min_data_in_leaf**: Leaf minimum number of records also used for controlling overfitting of the model.\n",
    "\n",
    "**Feature_fraction**: It decides the randomly chosen parameter in every iteration for building trees. If it is 0.7 then it means 70% of the parameter would be used.\n",
    "\n",
    "**Bagging_fraction**: It checks for the data fraction that will be used in every iteration. Often, used to increase the training speed and avoid overfitting.\n",
    "\n",
    "**Early_stopping_round**: If the metric of the validation data does show any improvement in last early_stopping_round rounds. It will lower the imprudent iterations.\n",
    "\n",
    "**Lambda**: It states regularization. Its values range from 0 to 1.\n",
    "\n",
    "**Min_gain_to_split**: Used to control the number of splits in the tree.\n",
    "\n",
    "### Core Parameters\n",
    "\n",
    "**Task**: It tells about the task that is to be performed on the data. It can either train on the data or prediction on the data.\n",
    "\n",
    "**Application**: This parameter specifies whether to do regression or classification. LightGBM default parameter for application is regression.\n",
    "\n",
    "**Binary**: It is used for binary classification.\n",
    "\n",
    "**Multiclass**: It is used for multiclass classification problems.\n",
    "\n",
    "**Regression**: It is used for doing regression.\n",
    "\n",
    "**Boosting**: It specifies the algorithm type.\n",
    "\n",
    "**rf** :  Used for Random Forest.\n",
    "\n",
    "**Goss**: Gradient-based One Side Sampling.\n",
    "\n",
    "**Num_boost_round**: It tells about the boosting iterations.\n",
    "\n",
    "**Learning_rate**: The role of learning rate is to power the magnitude of the changes in the approximate that gets updated from each tree’s output. It determines the contribution of each tree on the final outcome and controls how quickly the algorithm proceeds down the gradient descent (learns); Typical values between 0.001–0.3. Smaller values make the model robust to the specific characteristics of each individual tree, thus allowing it to generalize well. Smaller values also make it easier to stop prior to overfitting; however, they increase the risk of not reaching the optimum with a fixed number of trees and are more computationally demanding. This hyperparameter is also called shrinkage. Generally, the smaller this value, the more accurate the model can be but also will require more trees in the sequence.\n",
    "\n",
    "**Num_leaves**: It gives the total number of leaves that would be present in a full tree, default value: 31\n",
    "\n",
    "### Metric Parameter\n",
    "\n",
    "It takes care of the loss while building the model. Some of them are stated below for classification as well as regression.\n",
    "\n",
    "**Mae**: Mean absolute error.\n",
    "\n",
    "**Mse**: Mean squared error.\n",
    "\n",
    "**Binary_logloss**: Binary Classification loss.\n",
    "\n",
    "**Multi_logloss**: Multi Classification loss."
   ],
   "metadata": {
    "jupyter": {
     "outputs_hidden": false
    },
    "pycharm": {
     "name": "#%% md\n"
    }
   }
  },
  {
   "cell_type": "code",
   "execution_count": 602,
   "source": [
    "def light_gbm_model_run(train_x, train_y, validation_x, validation_y, test_x):\n",
    "    params = {\n",
    "        \"objective\" : \"regression\",\n",
    "        \"metric\" : \"rmse\",\n",
    "        \"num_leaves\" : 100,\n",
    "        \"learning_rate\" : 0.001,\n",
    "        \"bagging_fraction\" : 0.6,\n",
    "        \"feature_fraction\" : 0.6,\n",
    "        \"bagging_frequency\" : 6,\n",
    "        \"bagging_seed\" : 42,\n",
    "        \"verbosity\" : -1,\n",
    "        \"seed\": 42\n",
    "    }\n",
    "    # Given its a regression case, I am using the RMSE as the metric.\n",
    "\n",
    "    lg_train = lgb.Dataset(train_x, label=train_y)\n",
    "    lg_validation = lgb.Dataset(validation_x, label=validation_y)\n",
    "    evals_result_lgbm = {}\n",
    "\n",
    "    model_light_gbm = lgb.train(params, lg_train, 5000,\n",
    "                      valid_sets=[lg_train, lg_validation],\n",
    "                      early_stopping_rounds=100,\n",
    "                      verbose_eval=150,\n",
    "                      evals_result=evals_result_lgbm )\n",
    "\n",
    "    pred_test_light_gbm = np.expm1(model_light_gbm.predict(test_x, num_iteration=model_light_gbm.best_iteration ))\n",
    "\n",
    "    return pred_test_light_gbm, model_light_gbm, evals_result_lgbm"
   ],
   "outputs": [],
   "metadata": {
    "collapsed": false,
    "jupyter": {
     "outputs_hidden": false
    },
    "pycharm": {
     "name": "#%%\n"
    }
   }
  },
  {
   "cell_type": "code",
   "execution_count": 603,
   "source": [
    "# Training and output of LightGBM Model\n",
    "predictions_test_y_light_gbm, model_lgbm, evals_result = light_gbm_model_run(X_train_split, y_train_split, X_validation, y_validation, X_test_original)\n",
    "print('Output of LightGBM Model training..')"
   ],
   "outputs": [
    {
     "output_type": "stream",
     "name": "stdout",
     "text": [
      "Training until validation scores don't improve for 100 rounds\n",
      "[150]\ttraining's rmse: 1.66447\tvalid_1's rmse: 1.63996\n",
      "[300]\ttraining's rmse: 1.5765\tvalid_1's rmse: 1.5927\n",
      "[450]\ttraining's rmse: 1.49849\tvalid_1's rmse: 1.55466\n",
      "[600]\ttraining's rmse: 1.42919\tvalid_1's rmse: 1.52339\n",
      "[750]\ttraining's rmse: 1.36631\tvalid_1's rmse: 1.49837\n",
      "[900]\ttraining's rmse: 1.30931\tvalid_1's rmse: 1.47791\n",
      "[1050]\ttraining's rmse: 1.25734\tvalid_1's rmse: 1.46143\n",
      "[1200]\ttraining's rmse: 1.20984\tvalid_1's rmse: 1.44818\n",
      "[1350]\ttraining's rmse: 1.16678\tvalid_1's rmse: 1.43796\n",
      "[1500]\ttraining's rmse: 1.12698\tvalid_1's rmse: 1.42969\n",
      "[1650]\ttraining's rmse: 1.09049\tvalid_1's rmse: 1.42292\n",
      "[1800]\ttraining's rmse: 1.05661\tvalid_1's rmse: 1.41849\n",
      "[1950]\ttraining's rmse: 1.02528\tvalid_1's rmse: 1.41488\n",
      "[2100]\ttraining's rmse: 0.995869\tvalid_1's rmse: 1.41222\n",
      "[2250]\ttraining's rmse: 0.968211\tvalid_1's rmse: 1.40996\n",
      "[2400]\ttraining's rmse: 0.941985\tvalid_1's rmse: 1.40807\n",
      "[2550]\ttraining's rmse: 0.917269\tvalid_1's rmse: 1.40669\n",
      "[2700]\ttraining's rmse: 0.893978\tvalid_1's rmse: 1.40569\n",
      "[2850]\ttraining's rmse: 0.871822\tvalid_1's rmse: 1.40492\n",
      "[3000]\ttraining's rmse: 0.850995\tvalid_1's rmse: 1.40427\n",
      "[3150]\ttraining's rmse: 0.831253\tvalid_1's rmse: 1.40393\n",
      "[3300]\ttraining's rmse: 0.812591\tvalid_1's rmse: 1.40376\n",
      "Early stopping, best iteration is:\n",
      "[3289]\ttraining's rmse: 0.813895\tvalid_1's rmse: 1.40374\n",
      "Output of LightGBM Model training..\n"
     ]
    }
   ],
   "metadata": {
    "collapsed": false,
    "jupyter": {
     "outputs_hidden": false
    },
    "pycharm": {
     "name": "#%%\n"
    }
   }
  },
  {
   "cell_type": "markdown",
   "source": [
    "\n",
    "## Hyper-Parameter Tuning in LightGBM\n",
    "\n",
    "Parameter Tuning is an important part that is usually done by data scientists to achieve a good accuracy, fast result and to deal with overfitting. Let us see quickly some of the parameter tuning you can do for better results.\n",
    "\n",
    "**num_leaves**: This parameter is responsible for the complexity of the model. I normally start by trying values in the range [10,100]. But if you have a solid heuristic to choose tree depth you can always use it and set num_leaves to 2^tree_depth - 1\n",
    "\n",
    "[LightGBM Documentation](https://lightgbm.readthedocs.io/en/latest/Parameters-Tuning.html) says in respect -\n",
    "This is the main parameter to control the complexity of the tree model. Theoretically, we can set num_leaves = 2^(max_depth) to obtain the same number of leaves as depth-wise tree. However, this simple conversion is not good in practice. The reason is that a leaf-wise tree is typically much deeper than a depth-wise tree for a fixed number of leaves. Unconstrained depth can induce over-fitting. Thus, when trying to tune the num_leaves, we should let it be smaller than 2^(max_depth). For example, when the max_depth=7 the depth-wise tree can get good accuracy, but setting num_leaves to 127 may cause over-fitting, and setting it to 70 or 80 may get better accuracy than depth-wise.\n",
    "\n",
    "**Min_data_in_leaf**: Assigning bigger value to this parameter can result in underfitting of the model. Giving it a value of 100 or 1000 is sufficient for a large dataset.\n",
    "\n",
    "**Max_depth**: Controls the depth of the individual trees. Typical values range from a depth of 3–8 but it is not uncommon to see a tree depth of 1. Smaller depth trees are computationally efficient (but require more trees); however, higher depth trees allow the algorithm to capture unique interactions but also increase the risk of over-fitting. Larger training data sets are more tolerable to deeper trees.\n",
    "\n",
    "**num_iterations**: Num_iterations specifies the number of boosting iterations (trees to build). The more trees you build the more accurate your model can be at the cost of:\n",
    "    - Longer training time\n",
    "    - Higher chance of over-fitting\n",
    "So typically start with a lower number of trees to build a baseline and increase it later when you want to squeeze the last % out of your model.\n",
    "\n",
    "It is recommended to use smaller `learning_rate` with larger `num_iterations`. Also, we should use `early_stopping_rounds` if we go for higher `num_iterations` to stop your training when it is not learning anything useful.\n",
    "\n",
    "**early_stopping_rounds** - \"early stopping\" refers to stopping the training process if the model's performance on a given validation set does not improve for several consecutive iterations. This parameter will stop training if the validation metric is not improving after the last early stopping round. It should be defined in pair with a number of iterations. If we set it too large we increase the chance of over-fitting. **The rule of thumb is to have it at 10% of your `num_iterations`**.\n",
    "\n",
    "\n",
    "#### So for my above implementation of LightGBM, initially for two of the LightGBM parameters as below got me a score of 1.47953 (in Kaggle Public Board)\n",
    "\n",
    "```\n",
    "\"num_leaves\" : 40,\n",
    "\"learning_rate\" : 0.004,\n",
    "```\n",
    "\n",
    "And now if I only tune these parameters as below\n",
    "\n",
    "```\n",
    "\"num_leaves\" : 100,\n",
    "\"learning_rate\" : 0.001,\n",
    "```\n",
    "#### I got my score very very slightly updated to 1.4714 (in Kaggle Public Board)\n",
    "\n",
    "I also tried the below one (keeping 'num_leaves' at 70 to avoid over-fitting)\n",
    "\n",
    "```\n",
    "\"num_leaves\" : 70,\n",
    "\"learning_rate\" : 0.001,\n",
    "```\n",
    "With this - I got a score of 1.47234 (in Kaggle Public Board)\n",
    "\n",
    "## Features Importance in LightGBM"
   ],
   "metadata": {
    "pycharm": {
     "name": "#%% md\n"
    }
   }
  },
  {
   "cell_type": "code",
   "execution_count": 604,
   "source": [
    "gain_light_gbm = model_lgbm.feature_importance('gain')\n",
    "feature_imp_light_gbm = pd.DataFrame({'feature': model_lgbm.feature_name(),\n",
    "                                      'split': model_lgbm.feature_importance('split'),\n",
    "                                      'gain': 100 * gain_light_gbm / gain_light_gbm.sum()\n",
    "}).sort_values('gain', ascending=False)\n",
    "print(feature_imp_light_gbm[:50])"
   ],
   "outputs": [
    {
     "output_type": "stream",
     "name": "stdout",
     "text": [
      "        feature  split      gain\n",
      "4135  f190486d6   6623  6.950093\n",
      "2378  58e2e02e6   6012  4.948486\n",
      "3470  eeb9cd3aa   5474  4.035842\n",
      "2617  9fd594eec   4157  3.262016\n",
      "4025  15ace8c9f   5198  2.999663\n",
      "8     20aa07010   3628  1.903282\n",
      "3576  58232a6fb   3458  1.472419\n",
      "834   6eef030c1   3798  1.292199\n",
      "1459  b43a7cfd5   4241  1.255624\n",
      "2690  fb0f5dbfe   4482  1.118876\n",
      "3666  491b9ee45   2625  1.040685\n",
      "1484  024c577b9   2931  1.027777\n",
      "4348  1702b5bf0   2993  0.934598\n",
      "4190  f74e8f13d   3636  0.931987\n",
      "566   66ace2992   3053  0.899695\n",
      "4513  c47340d97   3209  0.888001\n",
      "3727  d6bb78916   3296  0.863508\n",
      "2082  58e056e12   3651  0.859513\n",
      "863   fc99f9426   2474  0.778488\n",
      "3816  adb64ff71   2664  0.749633\n",
      "4458  190db8488   3040  0.721582\n",
      "4033  5c6487af1   2454  0.703383\n",
      "3224  ced6a7e91   1666  0.667195\n",
      "3796  ed8ff54b5    737  0.643995\n",
      "2137  241f0f867   2467  0.641655\n",
      "537   26fc93eb7   2559  0.620171\n",
      "3872  2288333b4   1182  0.614189\n",
      "3891  50e4f96cf   1147  0.594101\n",
      "2619  fb387ea33    998  0.583353\n",
      "828   6786ea46d    806  0.559286\n",
      "1380  6cf7866c1    985  0.547168\n",
      "4346  e176a204a   2342  0.544077\n",
      "34    87ffda550   1353  0.531567\n",
      "2214  1931ccfdd   2020  0.517504\n",
      "853   bc70cbc26    973  0.505660\n",
      "4321  c5a231d81   2253  0.502023\n",
      "3010  703885424   1944  0.488684\n",
      "3784  70feb1494   1879  0.486723\n",
      "3474  324921c7b   2431  0.477780\n",
      "213   186b87c05    345  0.476618\n",
      "2934  91f701ba2   1983  0.439053\n",
      "3988  45f6d00da   1365  0.421545\n",
      "624   0c9462c08   1232  0.420413\n",
      "4022  62e59a501   1955  0.418382\n",
      "545   0572565c2   1652  0.395456\n",
      "1750  5f341a818    877  0.389509\n",
      "1850  5a1589f1a   1570  0.379379\n",
      "1712  2ec5b290f   2078  0.377675\n",
      "645   6619d81fc   1627  0.365498\n",
      "1360  1db387535   1774  0.365378\n"
     ]
    }
   ],
   "metadata": {
    "collapsed": false,
    "jupyter": {
     "outputs_hidden": false
    },
    "pycharm": {
     "name": "#%%\n"
    }
   }
  },
  {
   "cell_type": "markdown",
   "source": [
    "## XGBoost Model Training\n",
    "\n",
    "### Note on XGBoost\n",
    "\n",
    "Below we will be using **XGBoost** which is an advanced version of Gradient boosting method, it literally means eXtreme Gradient Boosting. XGBoost dominates structured or tabular datasets on classification and regression predictive modeling problems. The XGBoost library implements the [gradient boosting decision tree algorithm](https://en.wikipedia.org/wiki/Gradient_boosting).\n",
    "\n",
    "Different from the traditional gradient descent technique, gradient enhancement helps to predict the optimal gradient of the additional model. This technique can reduce the output error at each iteration.\n",
    "\n",
    "In practice what we do in order to build the learner is to:\n",
    "\n",
    "- Start with single root (contains all the training examples)\n",
    "\n",
    "- Iterate over all features and values per feature, and evaluate each possible split loss reduction:\n",
    "\n",
    "- gain = loss(father instances) - (loss(left branch)+loss(right branch))\n",
    "\n",
    "- The gain for the best split must be positive (and > min_split_gain parameter), otherwise we must stop growing the branch.\n",
    "\n",
    "**Leaf growth**\n",
    "\n",
    "XGboost splits up to the specified max_depth hyperparameter and then starts pruning the tree backwards and removes splits beyond which there is no positive gain. It uses this approach since sometimes a split of no loss reduction may be followed by a split with loss reduction. XGBoost can also perform leaf-wise tree growth (as LightGBM).\n",
    "\n",
    "Normally it is impossible to enumerate all the possible tree structures q. A greedy algorithm that starts from a single leaf and iteratively adds branches to the tree is used instead. Assume that I_L and I_R are the instance sets of left and right nodes after the split. Then the loss reduction after the split is given by,\n",
    "\n",
    "![](https://i.imgur.com/jzyLh81.png)\n",
    "\n",
    "## Differences in LightGBM & XGBoost\n",
    "\n",
    "LightGBM uses a novel technique of Gradient-based One-Side Sampling (GOSS) to filter out the data instances for finding a split value while XGBoost uses pre-sorted algorithm & Histogram-based algorithm for computing the best split. Here instances mean observations/samples.\n",
    "\n",
    "Let's see how pre-sorting splitting works-\n",
    "\n",
    "- For each node, enumerate over all features\n",
    "\n",
    "- For each feature, sort the instances by feature value\n",
    "\n",
    "- Use a linear scan to decide the best split along that feature basis information gain\n",
    "\n",
    "- Take the best split solution along all the features\n",
    "\n",
    "In simple terms, Histogram-based algorithm splits all the data points for a feature into discrete bins and uses these bins to find the split value of histogram. While, it is efficient than pre-sorted algorithm in training speed which enumerates all possible split points on the pre-sorted feature values, it is still behind GOSS in terms of speed.\n",
    "\n",
    "## XGBoost Model Parameters\n",
    "\n",
    "I am explaining only those Parameters that I will be implementing below in my function. For an exhaustive explanation of all of them [see here](https://www.analyticsvidhya.com/blog/2016/03/complete-guide-parameter-tuning-xgboost-with-codes-python/)\n",
    "\n",
    "**objective [default=reg:linear]**\n",
    "\n",
    "This defines the loss function to be minimized. Mostly used values are:\n",
    "\n",
    "- binary:logistic –logistic regression for binary classification, returns predicted probability (not class)\n",
    "\n",
    "- multi:softmax –multiclass classification using the softmax objective, returns predicted class (not probabilities)\n",
    "you also need to set an additional num_class (number of classes) parameter defining the number of unique classes\n",
    "\n",
    "- multi:softprob –same as softmax, but returns predicted probability of each data point belonging to each class.\n",
    "\n",
    "**eval_metric [ default according to objective ]**\n",
    "\n",
    "The metric to be used for validation data. The default values are rmse for regression and error for classification.\n",
    "Typical values are:\n",
    "\n",
    "- rmse – root mean square error\n",
    "\n",
    "- mae – mean absolute error\n",
    "\n",
    "- logloss – negative log-likelihood\n",
    "\n",
    "- error – Binary classification error rate (0.5 threshold)\n",
    "\n",
    "- merror – Multiclass classification error rate\n",
    "\n",
    "- mlogloss – Multiclass logloss\n",
    "\n",
    "- auc: Area under the curve\n",
    "\n",
    "\n",
    "**eta [default=0.3]**\n",
    "\n",
    "- Analogous to learning rate in GBM.\n",
    "- Makes the model more robust by shrinking the weights on each step.\n",
    "- Typical final values to be used: 0.01-0.2\n",
    "\n",
    "**colsample_bytree**:  We can create a random sample of the features (or columns) to use prior to creating each decision tree in the boosted model. That is, tuning Column Sub-sampling in XGBoost By Tree. This is controlled by the colsample_bytree parameter. The default value is 1.0 meaning that all columns are used in each decision tree. A fraction (e.g. 0.6) means a fraction of columns to be subsampled. We can evaluate values for colsample_bytree between 0.1 and 1.0 incrementing by 0.1.\n",
    "\n",
    "#### A Note on regularization in XGBoost\n",
    "\n",
    "XGBoost adds built-in regularization to achieve accuracy gains beyond gradient boosting. Regularization is the process of adding information to reduce variance and prevent overfitting.\n",
    "\n",
    "Although data may be regularized through hyperparameter fine-tuning, regularized algorithms may also be attempted. For example, Ridge and Lasso are regularized machine learning alternatives to LinearRegression.\n",
    "\n",
    "XGBoost includes regularization as part of the learning objective, as contrasted with gradient boosting and random forests. The regularized parameters penalize complexity and smooth out the final weights to prevent overfitting. XGBoost is a regularized version of gradient boosting.\n",
    "\n",
    "Mathematically, XGBoost's learning objective may be defined as follows:\n",
    "\n",
    "### obj(θ) = l(θ) + Ω (θ)\n",
    "\n",
    "Here, **l(θ)**  is the loss function, which is the Mean Squared Error (MSE) for regression, or the log loss for classification, and **Ω (θ)** is the regularization function, a penalty term to prevent over-fitting. Including a regularization term as part of the objective function distinguishes XGBoost from most tree ensembles.\n",
    "\n",
    "The learning objective for the th boosted tree can now be rewritten as follows:\n",
    "\n",
    "![img](https://i.imgur.com/IRNCrvM.png)\n",
    "\n",
    "**reg_alpha and reg_lambda** : First note the loss function is defined as\n",
    "\n",
    "![img](https://i.imgur.com/aw1Hod9.png)\n",
    "\n",
    "##### So the above is how the regularized objective function looks like if you want to allow for the inclusion of a L1 and a L2 parameter in the same model\n",
    "\n",
    "`reg_alpha` and `reg_lambda` control the L1 and L2 regularization terms, which in this case limit how extreme the weights at the leaves can become. Higher values of alpha mean more L1 regularization. See the documentation [here](http://xgboost.readthedocs.io/en/latest///parameter.html#parameters-for-tree-booster).\n",
    "\n",
    "Since L1 regularization in GBDTs is applied to leaf scores rather than directly to features as in logistic regression, it actually serves to reduce the depth of trees. This in turn will tend to reduce the impact of less-predictive features. We might think of L1 regularization as more aggressive against less-predictive features than L2 regularization.\n",
    "\n",
    "These two regularization terms have different effects on the weights; L2 regularization (controlled by the lambda term) encourages the weights to be small, whereas L1 regularization (controlled by the alpha term) encourages sparsity — so it encourages weights to go to 0. This is helpful in models such as logistic regression, where you want some feature selection, but in decision trees we’ve already selected our features, so zeroing their weights isn’t super helpful. For this reason, I found setting a high lambda value and a low (or 0) alpha value to be the most effective when regularizing.\n",
    "\n",
    "##### [From this Paper](https://arxiv.org/pdf/1603.02754.pdf)\n",
    "\n",
    "You find the mathematical underpinnings for XGBoost model by Tianqi Chen et al. A couple of mathematical deviations of this model form the classic Friedman's GBM are:\n",
    "\n",
    " - Regularized (penalized) parameters (and remember that parameters in the boosting are the function, trees, or linear models): L1 and L2 are available.\n",
    "\n",
    "   [1]: https://i.stack.imgur.com/oJlNo.png"
   ],
   "metadata": {
    "pycharm": {
     "name": "#%% md\n"
    }
   }
  },
  {
   "cell_type": "code",
   "execution_count": 605,
   "source": [
    "def xgb_model_run(train_x, train_y, validation_x, validation_y, test_x):\n",
    "    params = {\n",
    "        'objective': 'reg:squarederror', \n",
    "          'eval_metric': 'rmse',\n",
    "          'eta': 0.001,\n",
    "          'max_depth': 10, \n",
    "          'subsample': 0.6, \n",
    "          'colsample_bytree': 0.6,\n",
    "          'alpha':0.001,\n",
    "          'random_state': 42\n",
    "          \n",
    "    }\n",
    "\n",
    "    training_data = xgb.DMatrix(train_x, train_y)\n",
    "    validation_data = xgb.DMatrix(validation_x, validation_y)\n",
    "\n",
    "    watchlist = [(training_data, 'train'), (validation_data, 'valid')]\n",
    "\n",
    "    model_xgb = xgb.train(params, training_data, 50, watchlist, maximize=False, early_stopping_rounds=100, verbose_eval=100 )\n",
    "\n",
    "    data_test = xgb.DMatrix(test_x)\n",
    "    predict_test_xgb = np.expm1(model_xgb.predict(data_test, ntree_limit=model_xgb.best_ntree_limit ) )\n",
    "\n",
    "    return predict_test_xgb, model_xgb"
   ],
   "outputs": [],
   "metadata": {
    "collapsed": false,
    "jupyter": {
     "outputs_hidden": false
    },
    "pycharm": {
     "name": "#%%\n"
    }
   }
  },
  {
   "cell_type": "markdown",
   "source": [
    "### Training XGB"
   ],
   "metadata": {
    "pycharm": {
     "name": "#%% md\n"
    }
   }
  },
  {
   "cell_type": "code",
   "execution_count": 606,
   "source": [
    "predictions_test_y_xgb, model_xgb = xgb_model_run(X_train_split, y_train_split, X_validation, y_validation, X_test_original)\n",
    "print('Completion of XGB Training!!')"
   ],
   "outputs": [
    {
     "output_type": "stream",
     "name": "stdout",
     "text": [
      "[0]\ttrain-rmse:14.08765\tvalid-rmse:14.07678\n",
      "Multiple eval metrics have been passed: 'valid-rmse' will be used for early stopping.\n",
      "\n",
      "Will train until valid-rmse hasn't improved in 100 rounds.\n",
      "[49]\ttrain-rmse:13.42470\tvalid-rmse:13.41331\n",
      "Completion of XGB Training!!\n"
     ]
    }
   ],
   "metadata": {
    "collapsed": false,
    "jupyter": {
     "outputs_hidden": false
    },
    "pycharm": {
     "name": "#%%\n"
    }
   }
  },
  {
   "cell_type": "markdown",
   "source": [
    "### Hyper-Parameter Tuning in XGBoost\n",
    "\n",
    "As an example, on the above mode, for our XGBoost function we could fine-tune five hyperparameters. The ranges of possible values that we could consider could be as below:\n",
    "\n",
    "```\n",
    "{\"learning_rate\"    : [0.05, 0.10, 0.15, 0.20, 0.25, 0.30 ] ,\n",
    " \"max_depth\"        : [ 3, 4, 5, 6, 8, 10, 12, 15],\n",
    " \"min_child_weight\" : [ 1, 3, 5, 7 ],\n",
    " \"gamma\"            : [ 0.0, 0.1, 0.2 , 0.3, 0.4 ],\n",
    " \"colsample_bytree\" : [ 0.3, 0.4, 0.5 , 0.7 ] }\n",
    "```\n",
    "\n",
    "---"
   ],
   "metadata": {
    "pycharm": {
     "name": "#%% md\n"
    }
   }
  },
  {
   "cell_type": "markdown",
   "source": [
    "## CatBoost Model Training\n",
    "\n",
    "CatBoost is another competitor to XGBoost, LightGBM and H2O. “CatBoost” name comes from two words “Category” and “Boosting”.\n",
    "\n",
    "The library works well with multiple Categories of data, such as audio, text, image including historical data.\n",
    "\n",
    "The CatBoost library can be used to solve both classification and regression challenge. For classification, you can use **“CatBoostClassifier”** and for regression, **“CatBoostRegressor“**.\n",
    "\n",
    "**[Yandex](https://yandex.com/)** is relying heavily on Catboost for ranking, forecasting and recommendations. This model is serving more than 70 million users each month.\n",
    "\n",
    "\"CatBoost is an algorithm for gradient boosting on decision trees. Developed by Yandex researchers and engineers, it is the successor of the MatrixNet algorithm that is widely used within the company for ranking tasks, forecasting and making recommendations. It is universal and can be applied across a wide range of areas and to a variety of problems.\"\n",
    "\n",
    "Overall some of the algorithmic enhancements that **Catboost** brought:\n",
    "\n",
    "- 1. For data with **categorical** features the accuracy of CatBoost would be better compared to other algorithms.\n",
    "\n",
    "2. **Better over-fitting handling**: - CatBoost uses the implementation of ordered boosting, an alternative to the classic boosting algorithm, which will be specially significant on small datasets\n",
    "\n",
    "3. **GPU-training**: - The versions of CatBoost available from pip install (pip install catboost) and conda install (conda install catboost) have GPU support out-of-the-box. You just need to specify that you want to train your model on GPU in the corresponding HP (will be shown below).\n",
    "\n",
    "For [GPU system requirements of CatBoost](https://catboost.ai/docs/concepts/python-installation.html#gpu-system-requirements)\n",
    "\n",
    "The versions of CatBoost available from pip install and conda install have GPU support out-of-the-box.\n",
    "Devices with compute capability 3.0 and higher are supported in compiled packages.\n",
    "Training on GPU requires NVIDIA Driver of version 418.xx or higher.\n",
    "The Python version of CatBoost for CUDA of compute capability 2.0 can be built from source.\n",
    "\n",
    "To check Compute Capability of your CUDA-GPU check this [NVIDIA Official Link](https://developer.nvidia.com/cuda-gpus#compute)\n",
    "\n",
    "Further for [Training on GPU](https://catboost.ai/docs/features/training-on-gpu.html)\n",
    "\n",
    "The parameters that enable and customize training on GPU are set in the constructors of the classes - CatBoost (fit), CatBoostClassifier (fit), CatBoostRegressor (fit).\n",
    "`task_type` - The processing unit type to use for training. Possible values are - \"CPU\" or \"GPU\" . An example below\n",
    "\n",
    "```python\n",
    "model = CatBoostClassifier(iterations=1000,\n",
    "                           task_type=\"GPU\",\n",
    "                           devices='0:1')\n",
    "model.fit(train_data,\n",
    "          train_labels,\n",
    "          verbose=False)\n",
    "```\n",
    "\n",
    "**Categorical features handling in CatBoost Algorithm**\n",
    "\n",
    "[The below is taken from this paper](http://learningsys.org/nips17/assets/papers/paper_11.pdf)\n",
    "\n",
    "Categorical features have a discrete set of values called categories which are not necessary comparable with each other; thus, such features cannot be used in binary decision trees directly. A common practice for dealing with categorical features is converting them to numbers at the preprocessing time, i.e., each category for each example is substituted with one or several numerical values. The most widely used technique which is usually applied to low-cardinality categorical features is one-hot encoding: the original feature is removed and a new binary variable is added for each category [14]. One-hot encoding can be done during the preprocessing phase or during training, the latter can be implemented more efficiently in terms of training time and is implemented in CatBoost.\n",
    "\n",
    "For further details on this red [CatBoost's documentation](https://catboost.ai/docs/concepts/algorithm-main-stages_cat-to-numberic.html)\n",
    "\n",
    "**Leaf growth algorithm in CatBoost**\n",
    "\n",
    "Catboost grows a balanced tree. In each level of such a tree, the feature-split pair that brings to the lowest loss (according to a penalty function) is selected and is used for all the level’s nodes. It is possible to change its policy using the grow-policy parameter.\n",
    "\n",
    "## CatBoost Training Parameters\n",
    "\n",
    "Let’s look at the common parameters in CatBoost:\n",
    "\n",
    "**loss_function** alias as **objective** — Metric used for training. These are regression metrics such as root mean squared error for regression and logloss for classification.\n",
    "\n",
    "**eval_metric** — Metric used for detecting over-fitting.\n",
    "\n",
    "**iterations** — The maximum number of trees to be built, defaults to 1000. It aliases are `num_boost_round`, `n_estimators`, and `num_trees`.\n",
    "Some notes on **Total num of Trees** - In **bagging** and **random forests**  the averaging of independently grown trees makes it very difficult to overfit with too many trees. However, in GBMs this function differently as each tree is grown in sequence to fix up the past tree’s mistakes. For example, in regression, GBMs will chase residuals as long as we allow them to. Also, depending on the values of the other hyperparameters, GBMs often require many trees (sometimes many thousands of trees). But also more trees, can easily overfit we must find the optimal number of trees that minimize the loss function of interest with cross validation.\n",
    "\n",
    "**learning_rate** alias **eta** — The learning rate that determines how fast or slow the model will learn. The default is usually varies between 0.01 to 0.03.\n",
    "\n",
    "**random_seed** alias **random_state** — The random seed used for training.\n",
    "\n",
    "**l2_leaf_reg** alias **reg_lambda** — Coefficient at the L2 regularization term of the cost function. The default is 3.0.\n",
    "\n",
    "**bootstrap_type** — Determines the sampling method for the weights of the objects, e.g Bayesian, Bernoulli, MVS, and Poisson.\n",
    "depth —The depth of the tree.\n",
    "\n",
    "**grow_policy** — Determines how the greedy search algorithm will be applied. It can be either SymmetricTree, Depthwise, or Lossguide.\n",
    "\n",
    "**SymmetricTree** is the default. In SymmetricTree, the tree is built level-by-level until the depth is attained. In every step, leaves from the previous tree are split with the same condition. When **Depthwise** is chosen, a tree is built step-by-step until the specified depth is achieved. On each step, all non-terminal leaves from the last tree level are split. The leaves are split using the condition that leads to the best loss improvement. In **Lossguide**, the tree is built leaf-by-leaf until the specified number of leaves is attained. On each step, the non-terminal leaf with the best loss improvement is split\n",
    "\n",
    "**min_data_in_leaf** alias **min_child_samples** — This is the minimum number of training samples in a leaf. This parameter is only used with the Lossguide and Depthwise growing policies.\n",
    "\n",
    "**max_leaves** alias num_leaves — This parameter is used only with the Lossguide policy and determines the number of leaves in the tree.\n",
    "\n",
    "**ignored_features** — Indicates the features that should be ignored in the training process.\n",
    "\n",
    "**nan_mode** — The method for dealing with missing values. The options are Forbidden, Min, and Max. The default is Min. When Forbidden is used, the presence of missing values leads to errors. With Min, the missing values are taken as the minimum values for that feature. In Max, the missing values are treated as the maximum value for the feature.\n",
    "\n",
    "**leaf_estimation_method** — The method used to calculate values in leaves. In classification, 10 Newton iterations are used. Regression problems using quantile or MAE loss use one Exact iteration. Multi classification uses one Netwon iteration.\n",
    "\n",
    "**leaf_estimation_backtracking** — The type of backtracking to be used during gradient descent. The default is `AnyImprovement`. `AnyImprovement` decreases the descent step, up to where the loss function value is smaller than it was in the last iteration. Armijo reduces the descent step until the Armijo condition is met.\n",
    "\n",
    "**boosting_type** — The boosting scheme. It can be plain for the classic gradient boosting scheme, or ordered, which offers better quality on smaller datasets.\n",
    "\n",
    "**score_function** — The score type used to select the next split during tree construction. `Cosine` is the default option. The other available options are `L2`, `NewtonL2`, and `NewtonCosine`.\n",
    "\n",
    "**early_stopping_rounds** — When True, sets the over-fitting detector type to `Iter` and stops the training when the optimal metric is achieved.\n",
    "\n",
    "classes_count — The number of classes for multi-classification problems.\n",
    "task_type — Whether you are using a CPU or GPU. CPU is the default.\n",
    "devices — The IDs of the GPU devices to be used for training.\n",
    "cat_features — The array with the categorical columns.\n",
    "text_features —Used to declare text columns in classification problems."
   ],
   "metadata": {
    "pycharm": {
     "name": "#%% md\n"
    }
   }
  },
  {
   "cell_type": "code",
   "execution_count": 607,
   "source": [
    "# Now Catboost model training\n",
    "\n",
    "model_catboost = CatBoostRegressor(iterations=500,\n",
    "                                   learning_rate=0.01,\n",
    "                                   depth=10,\n",
    "                                   eval_metric='RMSE',\n",
    "                                   random_seed = 42,\n",
    "                                   bagging_temperature=0.2,\n",
    "                                   od_type='Iter',\n",
    "                                   metric_period=50,\n",
    "                                   od_wait=20\n",
    "                                   )\n",
    "\n",
    "model_catboost.fit(X_train_split, y_train_split,\n",
    "                   eval_set=(X_validation, y_validation),\n",
    "                   use_best_model=True,\n",
    "                   verbose=50\n",
    "                   )\n",
    "\n",
    "predictions_test_y_catboost = np.expm1(model_catboost.predict(X_test_original))"
   ],
   "outputs": [],
   "metadata": {
    "collapsed": false,
    "jupyter": {
     "outputs_hidden": false
    },
    "pycharm": {
     "name": "#%%\n"
    }
   }
  },
  {
   "cell_type": "markdown",
   "source": [
    "## Creating Output file for Submission"
   ],
   "metadata": {
    "pycharm": {
     "name": "#%% md\n"
    }
   }
  },
  {
   "cell_type": "code",
   "execution_count": null,
   "source": [
    "submission_final = pd.read_csv('../input/santander-value-prediction-challenge/sample_submission.csv')\n",
    "\n",
    "submission_lgb = pd.DataFrame()\n",
    "submission_lgb['target'] = predictions_test_y_light_gbm\n",
    "\n",
    "submission_xgb = pd.DataFrame()\n",
    "submission_xgb['target'] = predictions_test_y_xgb\n",
    "\n",
    "submission_catboost = pd.DataFrame()\n",
    "submission_catboost['target'] = predictions_test_y_catboost\n",
    "\n",
    "submission_final['target'] = (submission_lgb['target'] * 0.5 + submission_xgb['target'] * 0.3 + submission_catboost['target'] * 0.2)"
   ],
   "outputs": [],
   "metadata": {
    "collapsed": false,
    "pycharm": {
     "name": "#%%\n"
    }
   }
  },
  {
   "cell_type": "code",
   "execution_count": 609,
   "source": [
    "submission_final.head()"
   ],
   "outputs": [],
   "metadata": {
    "collapsed": false,
    "jupyter": {
     "outputs_hidden": false
    },
    "pycharm": {
     "name": "#%%\n"
    }
   }
  },
  {
   "cell_type": "code",
   "execution_count": null,
   "source": [
    "submission_final.to_csv('submission_combined_lgb_xgb_catboost.csv', index=False)\n"
   ],
   "outputs": [],
   "metadata": {
    "collapsed": false,
    "pycharm": {
     "name": "#%%\n"
    }
   }
  },
  {
   "cell_type": "markdown",
   "source": [
    "## Further Reading and References\n",
    "\n",
    "- T. Chen, C. Guestrin, [XGBoost: A Scalable Tree Boosting System, 2016](https://arxiv.org/abs/1603.02754)\n",
    "\n",
    "- J. Friedman, [Greedy Function Approximation: A Gradient Boosting Machine 1999](http://docs.salford-systems.com/GreedyFuncApproxSS.pdf)\n",
    "\n",
    "\n"
   ],
   "metadata": {
    "pycharm": {
     "name": "#%% md\n"
    }
   }
  }
 ],
 "metadata": {
  "kernelspec": {
   "name": "python3",
   "display_name": "Python 3.9.7 64-bit"
  },
  "language_info": {
   "codemirror_mode": {
    "name": "ipython",
    "version": 3
   },
   "file_extension": ".py",
   "mimetype": "text/x-python",
   "name": "python",
   "nbconvert_exporter": "python",
   "pygments_lexer": "ipython3",
   "version": "3.9.7"
  },
  "interpreter": {
   "hash": "f9f85f796d01129d0dd105a088854619f454435301f6ffec2fea96ecbd9be4ac"
  }
 },
 "nbformat": 4,
 "nbformat_minor": 4
}