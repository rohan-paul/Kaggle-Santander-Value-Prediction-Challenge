{
 "cells": [
  {
   "cell_type": "code",
   "execution_count": null,
   "metadata": {
    "collapsed": false,
    "jupyter": {
     "outputs_hidden": false
    },
    "pycharm": {
     "name": "#%%\n"
    }
   },
   "outputs": [],
   "source": [
    "import numpy as np\n",
    "import pandas as pd\n",
    "import matplotlib.pyplot as plt\n",
    "import seaborn as sns\n",
    "from sklearn.feature_extraction.text import TfidfVectorizer, CountVectorizer\n",
    "from sklearn.decomposition import TruncatedSVD\n",
    "from sklearn import preprocessing, model_selection, metrics\n",
    "from sklearn.model_selection import train_test_split\n",
    "import lightgbm as lgb\n",
    "import xgboost as xgb\n",
    "from catboost import CatBoostRegressor\n",
    "from sklearn.metrics import accuracy_score\n",
    "\n",
    "\n",
    "from IPython.display import display # Allows the use of display() for DataFrames\n",
    "\n",
    "import warnings\n",
    "warnings.filterwarnings('ignore')"
   ]
  },
  {
   "cell_type": "code",
   "execution_count": null,
   "metadata": {
    "collapsed": false,
    "jupyter": {
     "outputs_hidden": false
    },
    "pycharm": {
     "name": "#%%\n"
    }
   },
   "outputs": [],
   "source": [
    "train_df = pd.read_csv('../input/santander-value-prediction-challenge/train.csv')\n",
    "test_df = pd.read_csv('../input/santander-value-prediction-challenge/test.csv', nrows=100)"
   ]
  },
  {
   "cell_type": "code",
   "execution_count": null,
   "metadata": {},
   "outputs": [],
   "source": [
    "train_df.head()"
   ]
  },
  {
   "cell_type": "code",
   "execution_count": null,
   "metadata": {
    "pycharm": {
     "name": "#%%\n"
    }
   },
   "outputs": [],
   "source": [
    "test_df.head()"
   ]
  },
  {
   "cell_type": "code",
   "execution_count": null,
   "metadata": {
    "collapsed": false,
    "jupyter": {
     "outputs_hidden": false
    },
    "pycharm": {
     "name": "#%%\n"
    }
   },
   "outputs": [],
   "source": [
    "# print(\"All Features in Train data with NaN Values =\", str(train_df.columns[train_df.isnull().sum() != 0].size) )\n",
    "# print(\"All Features in Test data with NaN Values =\", str(test_df.columns[train_df.isnull().sum() != 0].size) )"
   ]
  },
  {
   "cell_type": "markdown",
   "metadata": {},
   "source": [
    "## Remove constant columns from data"
   ]
  },
  {
   "cell_type": "code",
   "execution_count": null,
   "metadata": {
    "collapsed": false,
    "jupyter": {
     "outputs_hidden": false
    },
    "pycharm": {
     "name": "#%%\n"
    }
   },
   "outputs": [],
   "source": [
    "const_columns_to_remove = []\n",
    "for col in train_df.columns:\n",
    "    if col != 'ID' and col != 'target':\n",
    "        if train_df[col].std() == 0:\n",
    "            const_columns_to_remove.append(col)\n",
    "\n",
    "# Now remove that array of const columns from the data\n",
    "train_df.drop(const_columns_to_remove, axis=1, inplace=True)\n",
    "test_df.drop(const_columns_to_remove, axis=1, inplace=True)"
   ]
  },
  {
   "cell_type": "markdown",
   "metadata": {},
   "source": [
    "## Remove Duplicate Columns"
   ]
  },
  {
   "cell_type": "code",
   "execution_count": null,
   "metadata": {
    "collapsed": false,
    "jupyter": {
     "outputs_hidden": false
    },
    "pycharm": {
     "name": "#%%\n"
    }
   },
   "outputs": [],
   "source": [
    "train_df = train_df.loc[:,~train_df.columns.duplicated()]"
   ]
  },
  {
   "cell_type": "markdown",
   "metadata": {},
   "source": [
    "### handle sparse data"
   ]
  },
  {
   "cell_type": "code",
   "execution_count": null,
   "metadata": {
    "collapsed": false,
    "jupyter": {
     "outputs_hidden": false
    },
    "pycharm": {
     "name": "#%%\n"
    }
   },
   "outputs": [],
   "source": [
    "def drop_parse_from_df(df):\n",
    "    column_list_to_drop_data_from = [i for i in df.columns if not i in ['ID', 'target'] ]\n",
    "    for column in column_list_to_drop_data_from:\n",
    "        if len(np.unique(df[column])) < 2:\n",
    "            df.drop(column, axis=1, inplace=True)\n",
    "            df.drop(column, axis=1, inplace=True)\n",
    "    return df\n",
    "\n",
    "\n",
    "train_df = drop_parse_from_df(train_df)\n",
    "print('Rows and Columns in train_df after removing sparse ', format(train_df.shape))\n"
   ]
  },
  {
   "cell_type": "markdown",
   "metadata": {
    "pycharm": {
     "name": "#%% md\n"
    }
   },
   "source": [
    "### Split data into Train and Test for Model Training"
   ]
  },
  {
   "cell_type": "code",
   "execution_count": null,
   "metadata": {
    "collapsed": false,
    "jupyter": {
     "outputs_hidden": false
    },
    "pycharm": {
     "name": "#%%\n"
    }
   },
   "outputs": [],
   "source": [
    "X_train = train_df.drop(['ID', 'target'], axis=1)\n",
    "\n",
    "y_train = np.log1p(train_df['target'].values)\n",
    "\n",
    "X_test_original = test_df.drop('ID', axis=1)\n",
    "\n",
    "X_train_split, X_validation, y_train_split, y_validation = train_test_split(X_train, y_train, test_size=0.2, random_state=42)"
   ]
  },
  {
   "cell_type": "code",
   "execution_count": null,
   "metadata": {
    "collapsed": false,
    "jupyter": {
     "outputs_hidden": false
    },
    "pycharm": {
     "name": "#%%\n"
    }
   },
   "outputs": [],
   "source": [
    "## LightGBM"
   ]
  },
  {
   "cell_type": "code",
   "execution_count": null,
   "metadata": {
    "collapsed": false,
    "jupyter": {
     "outputs_hidden": false
    },
    "pycharm": {
     "name": "#%%\n"
    }
   },
   "outputs": [],
   "source": [
    "def light_gbm_model_run(train_x, train_y, validation_x, validation_y, test_x):\n",
    "    params = {\n",
    "        \"objective\" : \"regression\",\n",
    "        \"metric\" : \"rmse\",\n",
    "        \"num_leaves\" : 100,\n",
    "        \"learning_rate\" : 0.001,\n",
    "        \"bagging_fraction\" : 0.6,\n",
    "        \"feature_fraction\" : 0.6,\n",
    "        \"bagging_frequency\" : 6,\n",
    "        \"bagging_seed\" : 42,\n",
    "        \"verbosity\" : -1,\n",
    "        \"seed\": 42\n",
    "    }\n",
    "    # Given its a regression case, I am using the RMSE as the metric.\n",
    "\n",
    "    lg_train = lgb.Dataset(train_x, label=train_y)\n",
    "    lg_validation = lgb.Dataset(validation_x, label=validation_y)\n",
    "    evals_result_lgbm = {}\n",
    "\n",
    "    model_light_gbm = lgb.train(params, lg_train, 5000,\n",
    "                      valid_sets=[lg_train, lg_validation],\n",
    "                      early_stopping_rounds=100,\n",
    "                      verbose_eval=150,\n",
    "                      evals_result=evals_result_lgbm )\n",
    "\n",
    "    pred_test_light_gbm = np.expm1(model_light_gbm.predict(test_x, num_iteration=model_light_gbm.best_iteration ))\n",
    "\n",
    "    return pred_test_light_gbm, model_light_gbm, evals_result_lgbm"
   ]
  },
  {
   "cell_type": "code",
   "execution_count": null,
   "metadata": {
    "collapsed": false,
    "jupyter": {
     "outputs_hidden": false
    },
    "pycharm": {
     "name": "#%%\n"
    }
   },
   "outputs": [],
   "source": [
    "# Training and output of LightGBM Model\n",
    "predictions_test_y_light_gbm, model, evals_result = light_gbm_model_run(X_train_split, y_train_split, X_validation, y_validation, X_test_original)\n",
    "print('Output of LightGBM Model training..')\n",
    "\n"
   ]
  },
  {
   "cell_type": "code",
   "execution_count": null,
   "metadata": {
    "collapsed": false,
    "jupyter": {
     "outputs_hidden": false
    },
    "pycharm": {
     "name": "#%%\n"
    }
   },
   "outputs": [],
   "source": [
    "# print('predictions_test_y_light_gbm is ', predictions_test_y_light_gbm.shape)\n",
    "# print('y_validation is ', y_validation.shape)"
   ]
  },
  {
   "cell_type": "code",
   "execution_count": null,
   "metadata": {
    "collapsed": false,
    "jupyter": {
     "outputs_hidden": false
    },
    "pycharm": {
     "name": "#%%\n"
    }
   },
   "outputs": [],
   "source": [
    "def xgb_model_run(train_x, train_y, validation_x, validation_y, test_x):\n",
    "    params = {\n",
    "        'objective': 'reg:squarederror',\n",
    "          'eval_metric': 'rmse',\n",
    "          'eta': 0.001,\n",
    "          'max_depth': 10,\n",
    "          'subsample': 0.6,\n",
    "          'colsample_bytree': 0.6,\n",
    "          'alpha':0.001,\n",
    "          'random_state': 42\n",
    "\n",
    "    }\n",
    "\n",
    "    training_data = xgb.DMatrix(train_x, train_y)\n",
    "    validation_data = xgb.DMatrix(validation_x, validation_y)\n",
    "\n",
    "    watchlist = [(training_data, 'train'), (validation_data, 'valid')]\n",
    "\n",
    "    model_xgb = xgb.train(params, training_data, 50, watchlist, maximize=False, early_stopping_rounds=100, verbose_eval=100 )\n",
    "\n",
    "    data_test = xgb.DMatrix(test_x)\n",
    "    predict_test_xgb = np.expm1(model_xgb.predict(data_test, ntree_limit=model_xgb.best_ntree_limit ) )\n",
    "\n",
    "    return predict_test_xgb, model_xgb\n",
    "\n",
    "### Training XGB\n",
    "predictions_test_y_xgb, model_xgb = xgb_model_run(X_train_split, y_train_split, X_validation, y_validation, X_test_original)\n",
    "print('Completion of XGB Training!!')"
   ]
  },
  {
   "cell_type": "code",
   "execution_count": null,
   "metadata": {
    "collapsed": false,
    "jupyter": {
     "outputs_hidden": false
    },
    "pycharm": {
     "name": "#%%\n"
    }
   },
   "outputs": [],
   "source": [
    "model_catboost = CatBoostRegressor(iterations=500,\n",
    "                                   learning_rate=0.01,\n",
    "                                   depth=10,\n",
    "                                   eval_metric='RMSE',\n",
    "                                   random_seed = 42,\n",
    "                                   bagging_temperature=0.2,\n",
    "                                   od_type='Iter',\n",
    "                                   metric_period=50,\n",
    "                                   od_wait=20\n",
    "                                   )\n",
    "\n",
    "model_catboost.fit(X_train_split, y_train_split,\n",
    "                   eval_set=(X_validation, y_validation),\n",
    "                   use_best_model=True,\n",
    "                   verbose=50\n",
    "                   )\n",
    "\n",
    "predictions_test_y_catboost = np.expm1(model_catboost.predict(X_test_original))"
   ]
  },
  {
   "cell_type": "code",
   "execution_count": null,
   "metadata": {
    "collapsed": false,
    "jupyter": {
     "outputs_hidden": false
    },
    "pycharm": {
     "name": "#%%\n"
    }
   },
   "outputs": [],
   "source": [
    "submisstion_final = pd.read_csv('../input/santander-value-prediction-challenge/sample_submission.csv')\n",
    "\n",
    "submission_lgb = pd.DataFrame()\n",
    "submission_lgb['target'] = predictions_test_y_light_gbm\n",
    "\n",
    "# sub['target'] = submission_lgb['target']\n",
    "\n",
    "submission_xgb = pd.DataFrame()\n",
    "submission_xgb['target'] = predictions_test_y_xgb\n",
    "\n",
    "submission_catboost = pd.DataFrame()\n",
    "submission_catboost['target'] = predictions_test_y_catboost\n",
    "\n",
    "submisstion_final['target'] = (submission_lgb['target'] * 0.5 + submission_xgb['target'] * 0.3 + submission_catboost['tartet'] * 0.2)"
   ]
  },
  {
   "cell_type": "code",
   "execution_count": null,
   "outputs": [],
   "source": [
    "print(submisstion_final.head())\n",
    "submisstion_final.to_csv('submission_combined_lgb_xgb_catboost.csv', index=False)"
   ],
   "metadata": {
    "collapsed": false,
    "pycharm": {
     "name": "#%%\n"
    }
   }
  }
 ],
 "metadata": {
  "kernelspec": {
   "display_name": "Python 3",
   "language": "python",
   "name": "python3"
  },
  "language_info": {
   "codemirror_mode": {
    "name": "ipython",
    "version": 3
   },
   "file_extension": ".py",
   "mimetype": "text/x-python",
   "name": "python",
   "nbconvert_exporter": "python",
   "pygments_lexer": "ipython3",
   "version": "3.7.6"
  }
 },
 "nbformat": 4,
 "nbformat_minor": 4
}